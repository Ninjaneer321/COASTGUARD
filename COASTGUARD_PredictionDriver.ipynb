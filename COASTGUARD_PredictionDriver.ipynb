{
 "cells": [
  {
   "cell_type": "markdown",
   "id": "e9e93a92-9e90-408c-88a2-d49c1c53c074",
   "metadata": {},
   "source": [
    "### Import necessary packages"
   ]
  },
  {
   "cell_type": "code",
   "execution_count": 1,
   "id": "355c8ba7-6902-48b4-9698-c9b367436e0c",
   "metadata": {},
   "outputs": [
    {
     "name": "stderr",
     "output_type": "stream",
     "text": [
      "2024-08-14 10:47:26.615106: I tensorflow/core/platform/cpu_feature_guard.cc:210] This TensorFlow binary is optimized to use available CPU instructions in performance-critical operations.\n",
      "To enable the following instructions: AVX2 FMA, in other operations, rebuild TensorFlow with the appropriate compiler flags.\n",
      "2024-08-14 10:47:37.921108: W tensorflow/compiler/tf2tensorrt/utils/py_utils.cc:38] TF-TRT Warning: Could not find TensorRT\n"
     ]
    }
   ],
   "source": [
    "import os\n",
    "import pickle\n",
    "import time\n",
    "import numpy as np\n",
    "import matplotlib.pyplot as plt\n",
    "import pandas as pd\n",
    "\n",
    "from sklearn.preprocessing import StandardScaler, MinMaxScaler\n",
    "from sklearn.model_selection import train_test_split\n",
    "# from sklearn.utils.class_weight import compute_class_weight\n",
    "# from imblearn.over_sampling import SMOTE\n",
    "\n",
    "from tensorflow.keras.models import Sequential\n",
    "from tensorflow.keras import Input\n",
    "from tensorflow.keras.layers import GRU, Dense, Dropout\n",
    "from tensorflow.keras.optimizers import Adam\n",
    "from imblearn.over_sampling import SMOTE\n",
    "from tensorflow.keras.callbacks import EarlyStopping, TensorBoard\n",
    "\n",
    "from Toolshed import Predictions\n",
    "\n",
    "# Only use tensorflow in CPU mode\n",
    "import tensorflow as tf\n",
    "tf.config.set_visible_devices([],'GPU')\n",
    "%load_ext tensorboard\n",
    "import tensorboard\n",
    "\n"
   ]
  },
  {
   "cell_type": "markdown",
   "id": "dac3dcc4-aff3-4afa-826d-8e62c2c74832",
   "metadata": {},
   "source": [
    "### Define site variables and set up directory"
   ]
  },
  {
   "cell_type": "code",
   "execution_count": 2,
   "id": "78cf828f-977a-44e8-8563-3906b17b29f5",
   "metadata": {},
   "outputs": [
    {
     "ename": "ModuleNotFoundError",
     "evalue": "No module named 'geopandas'",
     "output_type": "error",
     "traceback": [
      "\u001b[0;31m---------------------------------------------------------------------------\u001b[0m",
      "\u001b[0;31mModuleNotFoundError\u001b[0m                       Traceback (most recent call last)",
      "Cell \u001b[0;32mIn[2], line 6\u001b[0m\n\u001b[1;32m      3\u001b[0m filepath \u001b[38;5;241m=\u001b[39m os\u001b[38;5;241m.\u001b[39mpath\u001b[38;5;241m.\u001b[39mjoin(os\u001b[38;5;241m.\u001b[39mgetcwd(), \u001b[38;5;124m'\u001b[39m\u001b[38;5;124mData\u001b[39m\u001b[38;5;124m'\u001b[39m)\n\u001b[1;32m      5\u001b[0m \u001b[38;5;66;03m# Load in transect data with coastal change variables\u001b[39;00m\n\u001b[0;32m----> 6\u001b[0m TransectInterGDF, TransectInterGDFWater, TransectInterGDFTopo, TransectInterGDFWave \u001b[38;5;241m=\u001b[39m \u001b[43mPredictions\u001b[49m\u001b[38;5;241;43m.\u001b[39;49m\u001b[43mLoadIntersections\u001b[49m\u001b[43m(\u001b[49m\u001b[43mfilepath\u001b[49m\u001b[43m,\u001b[49m\u001b[43m \u001b[49m\u001b[43msitename\u001b[49m\u001b[43m)\u001b[49m\n\u001b[1;32m      7\u001b[0m \u001b[38;5;66;03m# Compile relevant coastal change metrics into one dataframe\u001b[39;00m\n\u001b[1;32m      8\u001b[0m CoastalDF \u001b[38;5;241m=\u001b[39m Predictions\u001b[38;5;241m.\u001b[39mCompileTransectData(TransectInterGDF, TransectInterGDFWater, TransectInterGDFTopo, TransectInterGDFWave)\n",
      "File \u001b[0;32m~/PhD/Year2/ModelsFrameworks/COASTGUARD/Toolshed/Predictions.py:38\u001b[0m, in \u001b[0;36mLoadIntersections\u001b[0;34m(filepath, sitename)\u001b[0m\n\u001b[1;32m     34\u001b[0m \u001b[38;5;28;01mdef\u001b[39;00m \u001b[38;5;21mLoadIntersections\u001b[39m(filepath, sitename):\n\u001b[1;32m     36\u001b[0m     \u001b[38;5;28;01mwith\u001b[39;00m \u001b[38;5;28mopen\u001b[39m(os\u001b[38;5;241m.\u001b[39mpath\u001b[38;5;241m.\u001b[39mjoin\n\u001b[1;32m     37\u001b[0m               (filepath , sitename, \u001b[38;5;124m'\u001b[39m\u001b[38;5;124mintersections\u001b[39m\u001b[38;5;124m'\u001b[39m, sitename \u001b[38;5;241m+\u001b[39m \u001b[38;5;124m'\u001b[39m\u001b[38;5;124m_transect_intersects.pkl\u001b[39m\u001b[38;5;124m'\u001b[39m), \u001b[38;5;124m'\u001b[39m\u001b[38;5;124mrb\u001b[39m\u001b[38;5;124m'\u001b[39m) \u001b[38;5;28;01mas\u001b[39;00m f:\n\u001b[0;32m---> 38\u001b[0m         TransectInterGDF \u001b[38;5;241m=\u001b[39m \u001b[43mpickle\u001b[49m\u001b[38;5;241;43m.\u001b[39;49m\u001b[43mload\u001b[49m\u001b[43m(\u001b[49m\u001b[43mf\u001b[49m\u001b[43m)\u001b[49m\n\u001b[1;32m     40\u001b[0m     \u001b[38;5;28;01mwith\u001b[39;00m \u001b[38;5;28mopen\u001b[39m(os\u001b[38;5;241m.\u001b[39mpath\u001b[38;5;241m.\u001b[39mjoin\n\u001b[1;32m     41\u001b[0m               (filepath , sitename, \u001b[38;5;124m'\u001b[39m\u001b[38;5;124mintersections\u001b[39m\u001b[38;5;124m'\u001b[39m, sitename \u001b[38;5;241m+\u001b[39m \u001b[38;5;124m'\u001b[39m\u001b[38;5;124m_transect_water_intersects.pkl\u001b[39m\u001b[38;5;124m'\u001b[39m), \u001b[38;5;124m'\u001b[39m\u001b[38;5;124mrb\u001b[39m\u001b[38;5;124m'\u001b[39m) \u001b[38;5;28;01mas\u001b[39;00m f:\n\u001b[1;32m     42\u001b[0m         TransectInterGDFWater \u001b[38;5;241m=\u001b[39m pickle\u001b[38;5;241m.\u001b[39mload(f)\n",
      "\u001b[0;31mModuleNotFoundError\u001b[0m: No module named 'geopandas'"
     ]
    }
   ],
   "source": [
    "# Name of site to save directory and files under\n",
    "sitename = 'StAndrewsEastS2Full'\n",
    "filepath = os.path.join(os.getcwd(), 'Data')\n",
    "\n",
    "# Load in transect data with coastal change variables\n",
    "TransectInterGDF, TransectInterGDFWater, TransectInterGDFTopo, TransectInterGDFWave = Predictions.LoadIntersections(filepath, sitename)\n",
    "# Compile relevant coastal change metrics into one dataframe\n",
    "CoastalDF = Predictions.CompileTransectData(TransectInterGDF, TransectInterGDFWater, TransectInterGDFTopo, TransectInterGDFWave)\n",
    "\n"
   ]
  }
 ],
 "metadata": {
  "kernelspec": {
   "display_name": "Python 3 (ipykernel)",
   "language": "python",
   "name": "python3"
  },
  "language_info": {
   "codemirror_mode": {
    "name": "ipython",
    "version": 3
   },
   "file_extension": ".py",
   "mimetype": "text/x-python",
   "name": "python",
   "nbconvert_exporter": "python",
   "pygments_lexer": "ipython3",
   "version": "3.12.3"
  }
 },
 "nbformat": 4,
 "nbformat_minor": 5
}
